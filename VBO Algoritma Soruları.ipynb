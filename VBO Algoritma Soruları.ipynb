{
 "cells": [
  {
   "cell_type": "markdown",
   "id": "ef79b1f9",
   "metadata": {},
   "source": [
    "## 16/01 Algoritma Sorusu"
   ]
  },
  {
   "cell_type": "markdown",
   "id": "2055bddf",
   "metadata": {},
   "source": [
    "*    1'den 100'e kadar her sayıyı yeni bir satıra yazdırın.\n",
    "*    3'ün her katı için sayı yerine \"fizz\" yazdırın.\n",
    "*    5'in her katı için sayı yerine \"buzz\" yazdırın.\n",
    "*    Hem 3'ün hem 5'in katı olan sayılar için sayı yerine \"fizzbuzz\" yazdırın."
   ]
  },
  {
   "cell_type": "code",
   "execution_count": 15,
   "id": "bd262eb2",
   "metadata": {},
   "outputs": [
    {
     "name": "stdout",
     "output_type": "stream",
     "text": [
      "1\n",
      "2\n",
      "fizz\n",
      "4\n",
      "buzz\n",
      "fizz\n",
      "7\n",
      "8\n",
      "fizz\n",
      "buzz\n",
      "11\n",
      "fizz\n",
      "13\n",
      "14\n",
      "fizzbuzz\n",
      "16\n",
      "17\n",
      "fizz\n",
      "19\n",
      "buzz\n",
      "fizz\n",
      "22\n",
      "23\n",
      "fizz\n",
      "buzz\n",
      "26\n",
      "fizz\n",
      "28\n",
      "29\n",
      "fizzbuzz\n",
      "31\n",
      "32\n",
      "fizz\n",
      "34\n",
      "buzz\n",
      "fizz\n",
      "37\n",
      "38\n",
      "fizz\n",
      "buzz\n",
      "41\n",
      "fizz\n",
      "43\n",
      "44\n",
      "fizzbuzz\n",
      "46\n",
      "47\n",
      "fizz\n",
      "49\n",
      "buzz\n",
      "fizz\n",
      "52\n",
      "53\n",
      "fizz\n",
      "buzz\n",
      "56\n",
      "fizz\n",
      "58\n",
      "59\n",
      "fizzbuzz\n",
      "61\n",
      "62\n",
      "fizz\n",
      "64\n",
      "buzz\n",
      "fizz\n",
      "67\n",
      "68\n",
      "fizz\n",
      "buzz\n",
      "71\n",
      "fizz\n",
      "73\n",
      "74\n",
      "fizzbuzz\n",
      "76\n",
      "77\n",
      "fizz\n",
      "79\n",
      "buzz\n",
      "fizz\n",
      "82\n",
      "83\n",
      "fizz\n",
      "buzz\n",
      "86\n",
      "fizz\n",
      "88\n",
      "89\n",
      "fizzbuzz\n",
      "91\n",
      "92\n",
      "fizz\n",
      "94\n",
      "buzz\n",
      "fizz\n",
      "97\n",
      "98\n",
      "fizz\n",
      "buzz\n"
     ]
    }
   ],
   "source": [
    "## Solution with for loop(if, elif, else statement)\n",
    "for i in range(1,101):\n",
    "    if (i % 5 == 0) and (i % 3 == 0):\n",
    "        print(\"fizzbuzz\")\n",
    "    elif i % 5 == 0:\n",
    "        print(\"buzz\")\n",
    "    elif i % 3 == 0:\n",
    "        print(\"fizz\")\n",
    "    else:\n",
    "        print(i)"
   ]
  },
  {
   "cell_type": "code",
   "execution_count": 16,
   "id": "2b43988a",
   "metadata": {},
   "outputs": [
    {
     "name": "stdout",
     "output_type": "stream",
     "text": [
      "[1, 2, 'fizz', 4, 'buzz', 'fizz', 7, 8, 'fizz', 'buzz', 11, 'fizz', 13, 14, 'fizzbuzz', 16, 17, 'fizz', 19, 'buzz', 'fizz', 22, 23, 'fizz', 'buzz', 26, 'fizz', 28, 29, 'fizzbuzz', 31, 32, 'fizz', 34, 'buzz', 'fizz', 37, 38, 'fizz', 'buzz', 41, 'fizz', 43, 44, 'fizzbuzz', 46, 47, 'fizz', 49, 'buzz', 'fizz', 52, 53, 'fizz', 'buzz', 56, 'fizz', 58, 59, 'fizzbuzz', 61, 62, 'fizz', 64, 'buzz', 'fizz', 67, 68, 'fizz', 'buzz', 71, 'fizz', 73, 74, 'fizzbuzz', 76, 77, 'fizz', 79, 'buzz', 'fizz', 82, 83, 'fizz', 'buzz', 86, 'fizz', 88, 89, 'fizzbuzz', 91, 92, 'fizz', 94, 'buzz', 'fizz', 97, 98, 'fizz', 'buzz']\n"
     ]
    }
   ],
   "source": [
    "## Solution with comprehension\n",
    "list1 = [\"fizzbuzz\"  if i % 5 == 0 and i % 3 == 0 \n",
    "         else \"buzz\" if i % 5 == 0\n",
    "         else \"fizz\" if i % 3 == 0\n",
    "         else i for i in range(1,101)]\n",
    "print(list1)"
   ]
  },
  {
   "cell_type": "code",
   "execution_count": 31,
   "id": "be375b13",
   "metadata": {
    "collapsed": true
   },
   "outputs": [
    {
     "name": "stdout",
     "output_type": "stream",
     "text": [
      "1.0\n",
      "2.0\n",
      "fizz\n",
      "4.0\n",
      "buzz\n",
      "fizz\n",
      "7.0\n",
      "8.0\n",
      "fizz\n",
      "buzz\n",
      "11.0\n",
      "fizz\n",
      "13.0\n",
      "14.0\n",
      "fizzbuzz\n",
      "16.0\n",
      "17.0\n",
      "fizz\n",
      "19.0\n",
      "buzz\n",
      "fizz\n",
      "22.0\n",
      "23.0\n",
      "fizz\n",
      "buzz\n",
      "26.0\n",
      "fizz\n",
      "28.0\n",
      "29.0\n",
      "fizzbuzz\n",
      "31.0\n",
      "32.0\n",
      "fizz\n",
      "34.0\n",
      "buzz\n",
      "fizz\n",
      "37.0\n",
      "38.0\n",
      "fizz\n",
      "buzz\n",
      "41.0\n",
      "fizz\n",
      "43.0\n",
      "44.0\n",
      "fizzbuzz\n",
      "46.0\n",
      "47.0\n",
      "fizz\n",
      "49.0\n",
      "buzz\n",
      "fizz\n",
      "52.0\n",
      "53.0\n",
      "fizz\n",
      "buzz\n",
      "56.0\n",
      "fizz\n",
      "58.0\n",
      "59.0\n",
      "fizzbuzz\n",
      "61.0\n",
      "62.0\n",
      "fizz\n",
      "64.0\n",
      "buzz\n",
      "fizz\n",
      "67.0\n",
      "68.0\n",
      "fizz\n",
      "buzz\n",
      "71.0\n",
      "fizz\n",
      "73.0\n",
      "74.0\n",
      "fizzbuzz\n",
      "76.0\n",
      "77.0\n",
      "fizz\n",
      "79.0\n",
      "buzz\n",
      "fizz\n",
      "82.0\n",
      "83.0\n",
      "fizz\n",
      "buzz\n",
      "86.0\n",
      "fizz\n",
      "88.0\n",
      "89.0\n",
      "fizzbuzz\n",
      "91.0\n",
      "92.0\n",
      "fizz\n",
      "94.0\n",
      "buzz\n",
      "fizz\n",
      "97.0\n",
      "98.0\n",
      "fizz\n",
      "buzz\n"
     ]
    }
   ],
   "source": [
    "## Solution with a function(docstring provided)\n",
    "\n",
    "## Using numpy linspace function to create the numbers\n",
    "import numpy as np \n",
    "numbers = np.linspace(1,100, 100)\n",
    "\n",
    "## Creating the function\n",
    "def transform(i):\n",
    "    \"\"\"\n",
    "    Args:\n",
    "        i: number that will be transformed (1,2,3,..)\n",
    "\n",
    "    Returns:\n",
    "        string \"fizz\" (if multiple == 3)\n",
    "        string \"buzz\" (if multiple == 5)\n",
    "        string \"fizzbuzz\" (if multiple == (3 and 5 at the same time))\n",
    "    \"\"\"\n",
    "    if (i % 5 == 0) and (i % 3 == 0):\n",
    "        return \"fizzbuzz\"\n",
    "    elif i % 5 == 0:\n",
    "        return \"buzz\"\n",
    "    elif i % 3 == 0:\n",
    "        return \"fizz\"\n",
    "    return i\n",
    "\n",
    "## Using a for loop to transform all numbers\n",
    "for k in numbers:\n",
    "    print(transform(k))"
   ]
  },
  {
   "cell_type": "markdown",
   "id": "4633d797",
   "metadata": {},
   "source": [
    "---------------"
   ]
  },
  {
   "cell_type": "markdown",
   "id": "480324c9",
   "metadata": {},
   "source": [
    "## 19/01 Algoritma Sorusu"
   ]
  },
  {
   "cell_type": "markdown",
   "id": "7d80edd4",
   "metadata": {},
   "source": [
    "* Bir yarışma için katılımcıların puanları göz önüne alındığında, ikincinin puanı bulmanız istenmektedir. Puanlar 2 3 6 6 5 olarak verilmiştir.\n",
    "* İlk olarak kaç katılımcı olduğunu kontrol edin.\n",
    "* Sonrasında puanları alın.\n",
    "* Ve ikinciyi bulun.\n",
    "\n",
    "* Örnek girdi:\n",
    "* 5\n",
    "* 2 3 6 6 5\n",
    "\n",
    "* Örnek çıktı:\n",
    "* 5"
   ]
  },
  {
   "cell_type": "code",
   "execution_count": 67,
   "id": "81399a4e",
   "metadata": {},
   "outputs": [
    {
     "name": "stdout",
     "output_type": "stream",
     "text": [
      "Katilimcilarin sayisini giriniz: 5\n",
      "Katilimcilarin puanlarini giriniz: 2 3 6 6 5\n"
     ]
    },
    {
     "data": {
      "text/plain": [
       "'Ikinci en yüksek puan: 5'"
      ]
     },
     "execution_count": 67,
     "metadata": {},
     "output_type": "execute_result"
    }
   ],
   "source": [
    "## Solution with a function:\n",
    "\n",
    "def ikinci():\n",
    "    say = int(input(\"Katilimcilarin sayisini giriniz: \"))\n",
    "    list1 = list(map(int, input(\"Katilimcilarin puanlarini giriniz: \").split(\" \")))\n",
    "    first = max(list1)\n",
    "    second = max([i for i in list1 if i != first])\n",
    "    return \"Ikinci en yüksek puan: \" + str(second)\n",
    "\n",
    "ikinci()"
   ]
  },
  {
   "cell_type": "code",
   "execution_count": 88,
   "id": "e6eebd28",
   "metadata": {},
   "outputs": [
    {
     "name": "stdout",
     "output_type": "stream",
     "text": [
      "Katilimcilarin sayisini giriniz: 5\n",
      "Katilimcilarin puanlarini giriniz: 2 3 6 6 5\n",
      "Ikinci en yüksek puan: 5\n"
     ]
    }
   ],
   "source": [
    "## Solution with sorting method\n",
    "\n",
    "say = int(input(\"Katilimcilarin sayisini giriniz: \"))\n",
    "list1 = sorted(list(map(int,list(set(input(\"Katilimcilarin puanlarini giriniz: \").split(\" \"))))))\n",
    "print(\"Ikinci en yüksek puan: \" + str(list1[-2]))"
   ]
  },
  {
   "cell_type": "markdown",
   "id": "af28f9ce",
   "metadata": {},
   "source": [
    "-----------------"
   ]
  }
 ],
 "metadata": {
  "kernelspec": {
   "display_name": "Python 3 (ipykernel)",
   "language": "python",
   "name": "python3"
  },
  "language_info": {
   "codemirror_mode": {
    "name": "ipython",
    "version": 3
   },
   "file_extension": ".py",
   "mimetype": "text/x-python",
   "name": "python",
   "nbconvert_exporter": "python",
   "pygments_lexer": "ipython3",
   "version": "3.9.13"
  }
 },
 "nbformat": 4,
 "nbformat_minor": 5
}
